{
  "metadata": {
    "language_info": {
      "codemirror_mode": {
        "name": "python",
        "version": 3
      },
      "file_extension": ".py",
      "mimetype": "text/x-python",
      "name": "python",
      "nbconvert_exporter": "python",
      "pygments_lexer": "ipython3",
      "version": "3.8"
    },
    "kernelspec": {
      "name": "python",
      "display_name": "Python (Pyodide)",
      "language": "python"
    }
  },
  "nbformat_minor": 4,
  "nbformat": 4,
  "cells": [
    {
      "cell_type": "code",
      "source": "import numpy as np#used for numerical analysis\nimport tensorflow #open source used for both ML and DL for computation\nfrom tensorflow.keras.models import Sequential #it is a plain stack of layers\nfrom tensorflow.keras import layers #A layer consists of a tensor-in tensor-out computation function\n#Dense layer is the regular deeply connected neural network layer\nfrom tensorflow.keras.layers import Dense,Flatten\n#Faltten-used fot flattening the input or change the dimension\nfrom tensorflow.keras.layers import Conv2D,MaxPooling2D,Dropout #Convolutional layer\n#MaxPooling2D-for downsampling the image\nfrom keras.preprocessing.image import ImageDataGenerator",
      "metadata": {
        "trusted": true
      },
      "execution_count": null,
      "outputs": []
    },
    {
      "cell_type": "code",
      "source": "model=sequential()",
      "metadata": {
        "trusted": true
      },
      "execution_count": null,
      "outputs": []
    },
    {
      "cell_type": "code",
      "source": "# Initializing the CNN\nclassifier = Sequential()\n\n# First convolution layer and pooling\nclassifier.add(Conv2D(32, (3, 3), input_shape=(64, 64, 3), activation='relu'))\nclassifier.add(MaxPooling2D(pool_size=(2, 2)))\n\n# Second convolution layer and pooling\nclassifier.add(Conv2D(32, (3, 3), activation='relu'))\n\n# input_shape is going to be the pooled feature maps from the previous convolution layer\nclassifier.add(MaxPooling2D(pool_size=(2, 2)))\n\n# Flattening the layers\nclassifier.add(Flatten())",
      "metadata": {
        "trusted": true
      },
      "execution_count": null,
      "outputs": []
    },
    {
      "cell_type": "code",
      "source": "# Adding a fully connected layer\nclassifier.add(Dense(units=128, activation='relu'))\nclassifier.add(Dense(units=5, activation='softmax')) # softmax for more than 2",
      "metadata": {
        "trusted": true
      },
      "execution_count": null,
      "outputs": []
    },
    {
      "cell_type": "code",
      "source": "classifier.summary()#summary of our model\nModel: \"sequential\"\n_________________________________________________________________\n Layer (type)                Output Shape              Param #   \n=================================================================\n conv2d (Conv2D)             (None, 62, 62, 32)        896       \n                                                                 \n max_pooling2d (MaxPooling2D  (None, 31, 31, 32)       0         \n )                                                               \n                                                                 \n conv2d_1 (Conv2D)           (None, 29, 29, 32)        9248      \n                                                                 \n max_pooling2d_1 (MaxPooling  (None, 14, 14, 32)       0         \n 2D)                                                             \n                                                                 \n flatten (Flatten)           (None, 6272)              0         \n                                                                 \n dense (Dense)               (None, 128)               802944    \n                                                                 \n dense_1 (Dense)             (None, 5)                 645       \n                                                                 \n=================================================================\nTotal params: 813,733\nTrainable params: 813,733\nNon-trainable params: 0\n_____________________________________________",
      "metadata": {
        "trusted": true
      },
      "execution_count": null,
      "outputs": []
    },
    {
      "cell_type": "code",
      "source": "##compiling the CNN\ncategorical_crossentropy for more than 2\nclassifier.compile(optimizer='adam',loss='sparse_categorical_crossentropy',metrics=['accuracy'])",
      "metadata": {
        "trusted": true
      },
      "execution_count": null,
      "outputs": []
    },
    {
      "cell_type": "code",
      "source": "##save the model\nclassifier.save('nutrition.r5')",
      "metadata": {
        "trusted": true
      },
      "execution_count": null,
      "outputs": []
    },
    {
      "cell_type": "code",
      "source": "classifier.fit_generator(\n    genarator=x_train,steps_per_epoch = len(x_train),\n    epochs=20,validation_data=x_test,validation_steps = len(x_test))",
      "metadata": {
        "trusted": true
      },
      "execution_count": null,
      "outputs": []
    },
    {
      "cell_type": "code",
      "source": "from tensorflow.keras.models importload_models\nfrom keraspreprocessing import image\nmodel = load_model(\"nutrition.r5\")#loading for testing",
      "metadata": {
        "trusted": true
      },
      "execution_count": null,
      "outputs": []
    },
    {
      "cell_type": "code",
      "source": "img = image.load.img(r\"c:\\users\\hp\\desktop\\files\\nutrition analysis using image classification\\sample_img\\test_image5.jpg)\n                     grayscale=false,target_size=(64,64)#loading the image\nx = image.img_to_array(img)#image to array\nx = np.expand_dims(x,axis = 0)#changing the shape\npred = model.predict_classes(x)#predicting the classes\npred\n                     ",
      "metadata": {
        "trusted": true
      },
      "execution_count": null,
      "outputs": []
    },
    {
      "cell_type": "code",
      "source": "index = ['APPLE','BANANA','ORANGE','PINEAPPLE','WATERMELON']\nresult=str(index[pred[0]])\nresult",
      "metadata": {
        "trusted": true
      },
      "execution_count": null,
      "outputs": []
    },
    {
      "cell_type": "code",
      "source": "'PINEAPPLE'",
      "metadata": {
        "trusted": true
      },
      "execution_count": null,
      "outputs": []
    },
    {
      "cell_type": "code",
      "source": "",
      "metadata": {},
      "execution_count": null,
      "outputs": []
    }
  ]
}