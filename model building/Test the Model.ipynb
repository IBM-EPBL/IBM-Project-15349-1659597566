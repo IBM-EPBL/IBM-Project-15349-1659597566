{
  "metadata": {
    "language_info": {
      "codemirror_mode": {
        "name": "python",
        "version": 3
      },
      "file_extension": ".py",
      "mimetype": "text/x-python",
      "name": "python",
      "nbconvert_exporter": "python",
      "pygments_lexer": "ipython3",
      "version": "3.8"
    },
    "kernelspec": {
      "name": "python",
      "display_name": "Python (Pyodide)",
      "language": "python"
    }
  },
  "nbformat_minor": 4,
  "nbformat": 4,
  "cells": [
    {
      "cell_type": "code",
      "source": "from tensorflow.keras.models importload_models\nfrom keraspreprocessing import image\nmodel = load_model(\"nutrition.r5\")#loading for testing",
      "metadata": {
        "trusted": true
      },
      "execution_count": null,
      "outputs": []
    },
    {
      "cell_type": "code",
      "source": "img = image.load.img(r\"c:\\users\\hp\\desktop\\files\\nutrition analysis using image classification\\sample_img\\test_image5.jpg)\n                     grayscale=false,target_size=(64,64)#loading the image\nx = image.img_to_array(img)#image to array\nx = np.expand_dims(x,axis = 0)#changing the shape\npred = model.predict_classes(x)#predicting the classes\npred\n                     \n                     ",
      "metadata": {
        "trusted": true
      },
      "execution_count": null,
      "outputs": []
    },
    {
      "cell_type": "code",
      "source": "index = ['APPLE','BANANA','ORANGE','PINEAPPLE','WATERMELON']\nresult=str(index[pred[0]])\nresult",
      "metadata": {
        "trusted": true
      },
      "execution_count": null,
      "outputs": []
    },
    {
      "cell_type": "code",
      "source": "",
      "metadata": {},
      "execution_count": null,
      "outputs": []
    },
    {
      "cell_type": "code",
      "source": "",
      "metadata": {},
      "execution_count": null,
      "outputs": []
    }
  ]
}