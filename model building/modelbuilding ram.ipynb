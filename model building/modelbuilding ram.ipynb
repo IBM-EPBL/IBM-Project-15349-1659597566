{
  "metadata": {
    "language_info": {
      "file_extension": ".sqlite3-console",
      "mimetype": "text/x-sqlite3-console",
      "name": "sqlite3",
      "version": "0.4.0"
    },
    "kernelspec": {
      "name": "SQLite",
      "display_name": "SQLite",
      "language": "sql"
    }
  },
  "nbformat_minor": 4,
  "nbformat": 4,
  "cells": [
    {
      "cell_type": "code",
      "source": "import numpy as np#used for numerical analysis\nimport tensorflow #open source used for both ML and DL for computation\nfrom tensorflow.keras.models import Sequential #it is a plain stack of layers\nfrom tensorflow.keras import layers #A layer consists of a tensor-in tensor-out computation function\n#Dense layer is the regular deeply connected neural network layer\nfrom tensorflow.keras.layers import Dense,Flatten\n#Faltten-used fot flattening the input or change the dimension\nfrom tensorflow.keras.layers import Conv2D,MaxPooling2D,Dropout #Convolutional layer\n#MaxPooling2D-for downsampling the image\nfrom keras.preprocessing.image import ImageDataGenerator",
      "metadata": {
        "trusted": true
      },
      "execution_count": null,
      "outputs": []
    },
    {
      "cell_type": "code",
      "source": "",
      "metadata": {},
      "execution_count": null,
      "outputs": []
    },
    {
      "cell_type": "code",
      "source": "",
      "metadata": {},
      "execution_count": null,
      "outputs": []
    }
  ]
}