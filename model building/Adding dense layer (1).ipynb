{
  "metadata": {
    "language_info": {
      "file_extension": ".sqlite3-console",
      "mimetype": "text/x-sqlite3-console",
      "name": "sqlite3",
      "version": "0.4.0"
    },
    "kernelspec": {
      "name": "SQLite",
      "display_name": "SQLite",
      "language": "sql"
    }
  },
  "nbformat_minor": 4,
  "nbformat": 4,
  "cells": [
    {
      "cell_type": "code",
      "source": "# Adding a fully connected layer\nclassifier.add(Dense(units=128, activation='relu'))\nclassifier.add(Dense(units=5, activation='softmax')) # softmax for more than 2",
      "metadata": {
        "trusted": true
      },
      "execution_count": null,
      "outputs": []
    },
    {
      "cell_type": "code",
      "source": "classifier.summary()#summary of our model\nModel: \"sequential\"\n_________________________________________________________________\n Layer (type)                Output Shape              Param #   \n=================================================================\n conv2d (Conv2D)             (None, 62, 62, 32)        896       \n                                                                 \n max_pooling2d (MaxPooling2D  (None, 31, 31, 32)       0         \n )                                                               \n                                                                 \n conv2d_1 (Conv2D)           (None, 29, 29, 32)        9248      \n                                                                 \n max_pooling2d_1 (MaxPooling  (None, 14, 14, 32)       0         \n 2D)                                                             \n                                                                 \n flatten (Flatten)           (None, 6272)              0         \n                                                                 \n dense (Dense)               (None, 128)               802944    \n                                                                 \n dense_1 (Dense)             (None, 5)                 645       \n                                                                 \n=================================================================\nTotal params: 813,733\nTrainable params: 813,733\nNon-trainable params: 0\n_________________________________________________________________",
      "metadata": {
        "trusted": true
      },
      "execution_count": null,
      "outputs": []
    },
    {
      "cell_type": "code",
      "source": "",
      "metadata": {},
      "execution_count": null,
      "outputs": []
    }
  ]
}