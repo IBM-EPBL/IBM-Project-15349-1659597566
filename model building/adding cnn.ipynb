{
  "metadata": {
    "language_info": {
      "file_extension": ".sqlite3-console",
      "mimetype": "text/x-sqlite3-console",
      "name": "sqlite3",
      "version": "0.4.0"
    },
    "kernelspec": {
      "name": "SQLite",
      "display_name": "SQLite",
      "language": "sql"
    }
  },
  "nbformat_minor": 4,
  "nbformat": 4,
  "cells": [
    {
      "cell_type": "code",
      "source": "# Initializing the CNN\nclassifier = Sequential()\n\n# First convolution layer and pooling\nclassifier.add(Conv2D(32, (3, 3), input_shape=(64, 64, 3), activation='relu'))\nclassifier.add(MaxPooling2D(pool_size=(2, 2)))\n\n# Second convolution layer and pooling\nclassifier.add(Conv2D(32, (3, 3), activation='relu'))\n\n# input_shape is going to be the pooled feature maps from the previous convolution layer\nclassifier.add(MaxPooling2D(pool_size=(2, 2)))\n\n# Flattening the layers\nclassifier.add(Flatten())",
      "metadata": {
        "trusted": true
      },
      "execution_count": null,
      "outputs": []
    },
    {
      "cell_type": "code",
      "source": "",
      "metadata": {},
      "execution_count": null,
      "outputs": []
    }
  ]
}